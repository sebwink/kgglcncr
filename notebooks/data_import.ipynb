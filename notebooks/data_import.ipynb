{
 "cells": [
  {
   "cell_type": "code",
   "execution_count": 1,
   "metadata": {
    "collapsed": true
   },
   "outputs": [],
   "source": [
    "import kgglcncr.data_import as importer"
   ]
  },
  {
   "cell_type": "code",
   "execution_count": 2,
   "metadata": {
    "collapsed": false
   },
   "outputs": [
    {
     "name": "stdout",
     "output_type": "stream",
     "text": [
      "Help on module kgglcncr.data_import in kgglcncr:\n",
      "\n",
      "NAME\n",
      "    kgglcncr.data_import - Provides functionalities for importing the challenge data.\n",
      "\n",
      "FUNCTIONS\n",
      "    import_test_text(data_path='/share/projects/TaskForce_ML/kaggle_personalized_medicine/', mode='in_memory')\n",
      "        Import the test text data.\n",
      "        \n",
      "        Args:\n",
      "            data_path (str): Path of directory where the challenge data files are located in\n",
      "            mode (str): Import mode, either 'in_memory' or 'stream'\n",
      "        \n",
      "        Returns:\n",
      "            The test text data in the format specified by the mode-argument.\n",
      "            See 'import_text_data'.\n",
      "    \n",
      "    import_test_variants(data_path='/share/projects/TaskForce_ML/kaggle_personalized_medicine/')\n",
      "        Import the test variant data.\n",
      "        \n",
      "        Args:\n",
      "            data_path (str): Path of directory where the challenge data files are located in\n",
      "        \n",
      "        Returns:\n",
      "            pd.DataFrame: The test variant data.\n",
      "    \n",
      "    import_text_data(path, mode='in_memory')\n",
      "        Wrapper function for the different modes of text data import.\n",
      "        \n",
      "        Args:\n",
      "            path (str): The path of the zip file containing the text data\n",
      "            mode (str): Import mode, either 'in_memory' or 'stream'\n",
      "        \n",
      "        Returns:\n",
      "            If mode equals 'in_memory' you get a Pandas dataframe with an ID\n",
      "            and a text column. If mode equals 'stream' you get a Python generator\n",
      "            yielding the (ID, text) tuples\n",
      "    \n",
      "    import_text_data_as_dataframe(path)\n",
      "        Read challenge text data, i.e. data organized like\n",
      "        'training_text' and 'test_text', into RAM as Pandas\n",
      "        dataframe.\n",
      "        \n",
      "        Pandas not directly applicable since for some odd\n",
      "        reason it cannot handle the '||' as sep-argument...\n",
      "        \n",
      "        Args:\n",
      "            path (str): The path of the zip file containing the text data\n",
      "        \n",
      "        Returns:\n",
      "            pd.DataFrame: Pandas dataframe with ID and Text column\n",
      "    \n",
      "    import_text_data_as_generator(path)\n",
      "        Read challenge text data, i.e. data organized like\n",
      "        'training_text' and 'test_text', as Python generator.\n",
      "        \n",
      "        Pandas not directly applicable since for some odd\n",
      "        reason it cannot handle the '||' as sep-argument...\n",
      "        \n",
      "        Args:\n",
      "            path (str): The path of the zip file containing the text data\n",
      "        \n",
      "        Returns:\n",
      "            TextDataGenerator: Python generator yielding (ID, text) tuples\n",
      "    \n",
      "    import_training_text(data_path='/share/projects/TaskForce_ML/kaggle_personalized_medicine/', mode='in_memory')\n",
      "        Import the training text data.\n",
      "        \n",
      "        Args:\n",
      "            data_path (str): Path of directory where the challenge data files are located in\n",
      "            mode (str): Import mode, either 'in_memory' or 'stream'\n",
      "        \n",
      "        Returns:\n",
      "            The training text data in the format specified by the mode-argument.\n",
      "            See 'import_text_data'.\n",
      "    \n",
      "    import_training_variants(data_path='/share/projects/TaskForce_ML/kaggle_personalized_medicine/')\n",
      "        Import the training variant data.\n",
      "        \n",
      "        Args:\n",
      "            data_path (str): Path of directory where the challenge data files are located in\n",
      "        \n",
      "        Returns:\n",
      "            pd.DataFrame: The training variant data.\n",
      "\n",
      "DATA\n",
      "    DEFAULT_KGGLCNCR_DATA_PATH = '/share/projects/TaskForce_ML/kaggle_pers...\n",
      "\n",
      "FILE\n",
      "    /opt/anaconda/3.5/lib/python3.5/site-packages/kgglcncr/data_import.py\n",
      "\n",
      "\n"
     ]
    }
   ],
   "source": [
    "help(importer)"
   ]
  },
  {
   "cell_type": "code",
   "execution_count": 3,
   "metadata": {
    "collapsed": false
   },
   "outputs": [
    {
     "data": {
      "text/plain": [
       "'/home/sebastian/prjcts/kgglcncr/notebooks'"
      ]
     },
     "execution_count": 3,
     "metadata": {},
     "output_type": "execute_result"
    }
   ],
   "source": [
    "pwd"
   ]
  },
  {
   "cell_type": "code",
   "execution_count": 4,
   "metadata": {
    "collapsed": false
   },
   "outputs": [
    {
     "name": "stdout",
     "output_type": "stream",
     "text": [
      "submissionFile  \u001b[0m\u001b[01;31mtest_variants.zip\u001b[0m  \u001b[01;31mtraining_variants.zip\u001b[0m\r\n",
      "\u001b[01;31mtest_text.zip\u001b[0m   \u001b[01;31mtraining_text.zip\u001b[0m\r\n"
     ]
    }
   ],
   "source": [
    "ls ../data"
   ]
  },
  {
   "cell_type": "code",
   "execution_count": 5,
   "metadata": {
    "collapsed": true
   },
   "outputs": [],
   "source": [
    "DATA_HOME = '../data'\n",
    "# not necessary when connected to the ABI share"
   ]
  },
  {
   "cell_type": "markdown",
   "metadata": {},
   "source": [
    "### Importing the text data"
   ]
  },
  {
   "cell_type": "code",
   "execution_count": 6,
   "metadata": {
    "collapsed": true
   },
   "outputs": [],
   "source": [
    "training_text = importer.import_training_text(DATA_HOME)\n",
    "# with a connection to the ABI-share the following is enough:\n",
    "# training_text = importer.import_training_text()"
   ]
  },
  {
   "cell_type": "code",
   "execution_count": 7,
   "metadata": {
    "collapsed": false
   },
   "outputs": [
    {
     "data": {
      "text/html": [
       "<div>\n",
       "<table border=\"1\" class=\"dataframe\">\n",
       "  <thead>\n",
       "    <tr style=\"text-align: right;\">\n",
       "      <th></th>\n",
       "      <th>ID</th>\n",
       "      <th>Text</th>\n",
       "    </tr>\n",
       "  </thead>\n",
       "  <tbody>\n",
       "    <tr>\n",
       "      <th>0</th>\n",
       "      <td>0</td>\n",
       "      <td>Cyclin-dependent kinases (CDKs) regulate a var...</td>\n",
       "    </tr>\n",
       "    <tr>\n",
       "      <th>1</th>\n",
       "      <td>1</td>\n",
       "      <td>Abstract Background  Non-small cell lung cance...</td>\n",
       "    </tr>\n",
       "    <tr>\n",
       "      <th>2</th>\n",
       "      <td>2</td>\n",
       "      <td>Abstract Background  Non-small cell lung cance...</td>\n",
       "    </tr>\n",
       "    <tr>\n",
       "      <th>3</th>\n",
       "      <td>3</td>\n",
       "      <td>Recent evidence has demonstrated that acquired...</td>\n",
       "    </tr>\n",
       "    <tr>\n",
       "      <th>4</th>\n",
       "      <td>4</td>\n",
       "      <td>Oncogenic mutations in the monomeric Casitas B...</td>\n",
       "    </tr>\n",
       "  </tbody>\n",
       "</table>\n",
       "</div>"
      ],
      "text/plain": [
       "   ID                                               Text\n",
       "0   0  Cyclin-dependent kinases (CDKs) regulate a var...\n",
       "1   1  Abstract Background  Non-small cell lung cance...\n",
       "2   2  Abstract Background  Non-small cell lung cance...\n",
       "3   3  Recent evidence has demonstrated that acquired...\n",
       "4   4  Oncogenic mutations in the monomeric Casitas B..."
      ]
     },
     "execution_count": 7,
     "metadata": {},
     "output_type": "execute_result"
    }
   ],
   "source": [
    "training_text.head()"
   ]
  },
  {
   "cell_type": "code",
   "execution_count": 8,
   "metadata": {
    "collapsed": true
   },
   "outputs": [],
   "source": [
    "training_text = importer.import_training_text(DATA_HOME, 'stream')"
   ]
  },
  {
   "cell_type": "code",
   "execution_count": 9,
   "metadata": {
    "collapsed": false
   },
   "outputs": [
    {
     "data": {
      "text/plain": [
       "<kgglcncr.data_import.import_text_data_as_generator.<locals>.TextDataGenerator at 0x7f1854835be0>"
      ]
     },
     "execution_count": 9,
     "metadata": {},
     "output_type": "execute_result"
    }
   ],
   "source": [
    "training_text"
   ]
  },
  {
   "cell_type": "code",
   "execution_count": 10,
   "metadata": {
    "collapsed": false
   },
   "outputs": [
    {
     "name": "stdout",
     "output_type": "stream",
     "text": [
      "0   Cyclin-dependent kin ...\n",
      "1   Abstract Background  ...\n",
      "2   Abstract Background  ...\n",
      "3   Recent evidence has  ...\n"
     ]
    }
   ],
   "source": [
    "i = 0\n",
    "for ID, text in training_text:\n",
    "    print(ID, ' ', text[:20], '...')\n",
    "    \n",
    "    i += 1\n",
    "    if i >= 4:\n",
    "        break"
   ]
  },
  {
   "cell_type": "code",
   "execution_count": 11,
   "metadata": {
    "collapsed": true
   },
   "outputs": [],
   "source": [
    "test_text = importer.import_test_text(DATA_HOME)"
   ]
  },
  {
   "cell_type": "code",
   "execution_count": 12,
   "metadata": {
    "collapsed": false
   },
   "outputs": [
    {
     "data": {
      "text/html": [
       "<div>\n",
       "<table border=\"1\" class=\"dataframe\">\n",
       "  <thead>\n",
       "    <tr style=\"text-align: right;\">\n",
       "      <th></th>\n",
       "      <th>ID</th>\n",
       "      <th>Text</th>\n",
       "    </tr>\n",
       "  </thead>\n",
       "  <tbody>\n",
       "    <tr>\n",
       "      <th>0</th>\n",
       "      <td>0</td>\n",
       "      <td>2. This mutation resulted in a myeloproliferat...</td>\n",
       "    </tr>\n",
       "    <tr>\n",
       "      <th>1</th>\n",
       "      <td>1</td>\n",
       "      <td>Abstract The Large Tumor Suppressor 1 (LATS1) ...</td>\n",
       "    </tr>\n",
       "    <tr>\n",
       "      <th>2</th>\n",
       "      <td>2</td>\n",
       "      <td>Vascular endothelial growth factor receptor (V...</td>\n",
       "    </tr>\n",
       "    <tr>\n",
       "      <th>3</th>\n",
       "      <td>3</td>\n",
       "      <td>Inflammatory myofibroblastic tumor (IMT) is a ...</td>\n",
       "    </tr>\n",
       "    <tr>\n",
       "      <th>4</th>\n",
       "      <td>4</td>\n",
       "      <td>Abstract Retinoblastoma is a pediatric retinal...</td>\n",
       "    </tr>\n",
       "  </tbody>\n",
       "</table>\n",
       "</div>"
      ],
      "text/plain": [
       "   ID                                               Text\n",
       "0   0  2. This mutation resulted in a myeloproliferat...\n",
       "1   1  Abstract The Large Tumor Suppressor 1 (LATS1) ...\n",
       "2   2  Vascular endothelial growth factor receptor (V...\n",
       "3   3  Inflammatory myofibroblastic tumor (IMT) is a ...\n",
       "4   4  Abstract Retinoblastoma is a pediatric retinal..."
      ]
     },
     "execution_count": 12,
     "metadata": {},
     "output_type": "execute_result"
    }
   ],
   "source": [
    "test_text.head()"
   ]
  },
  {
   "cell_type": "markdown",
   "metadata": {},
   "source": [
    "### Importing the variant data"
   ]
  },
  {
   "cell_type": "code",
   "execution_count": 13,
   "metadata": {
    "collapsed": true
   },
   "outputs": [],
   "source": [
    "training_variants = importer.import_training_variants(DATA_HOME)"
   ]
  },
  {
   "cell_type": "code",
   "execution_count": 14,
   "metadata": {
    "collapsed": false
   },
   "outputs": [
    {
     "data": {
      "text/html": [
       "<div>\n",
       "<table border=\"1\" class=\"dataframe\">\n",
       "  <thead>\n",
       "    <tr style=\"text-align: right;\">\n",
       "      <th></th>\n",
       "      <th>ID</th>\n",
       "      <th>Gene</th>\n",
       "      <th>Variation</th>\n",
       "      <th>Class</th>\n",
       "    </tr>\n",
       "  </thead>\n",
       "  <tbody>\n",
       "    <tr>\n",
       "      <th>0</th>\n",
       "      <td>0</td>\n",
       "      <td>FAM58A</td>\n",
       "      <td>Truncating Mutations</td>\n",
       "      <td>1</td>\n",
       "    </tr>\n",
       "    <tr>\n",
       "      <th>1</th>\n",
       "      <td>1</td>\n",
       "      <td>CBL</td>\n",
       "      <td>W802*</td>\n",
       "      <td>2</td>\n",
       "    </tr>\n",
       "    <tr>\n",
       "      <th>2</th>\n",
       "      <td>2</td>\n",
       "      <td>CBL</td>\n",
       "      <td>Q249E</td>\n",
       "      <td>2</td>\n",
       "    </tr>\n",
       "    <tr>\n",
       "      <th>3</th>\n",
       "      <td>3</td>\n",
       "      <td>CBL</td>\n",
       "      <td>N454D</td>\n",
       "      <td>3</td>\n",
       "    </tr>\n",
       "    <tr>\n",
       "      <th>4</th>\n",
       "      <td>4</td>\n",
       "      <td>CBL</td>\n",
       "      <td>L399V</td>\n",
       "      <td>4</td>\n",
       "    </tr>\n",
       "  </tbody>\n",
       "</table>\n",
       "</div>"
      ],
      "text/plain": [
       "   ID    Gene             Variation  Class\n",
       "0   0  FAM58A  Truncating Mutations      1\n",
       "1   1     CBL                 W802*      2\n",
       "2   2     CBL                 Q249E      2\n",
       "3   3     CBL                 N454D      3\n",
       "4   4     CBL                 L399V      4"
      ]
     },
     "execution_count": 14,
     "metadata": {},
     "output_type": "execute_result"
    }
   ],
   "source": [
    "training_variants.head()"
   ]
  },
  {
   "cell_type": "code",
   "execution_count": 15,
   "metadata": {
    "collapsed": true
   },
   "outputs": [],
   "source": [
    "test_variants = importer.import_test_variants(DATA_HOME)"
   ]
  },
  {
   "cell_type": "code",
   "execution_count": 16,
   "metadata": {
    "collapsed": false
   },
   "outputs": [
    {
     "data": {
      "text/html": [
       "<div>\n",
       "<table border=\"1\" class=\"dataframe\">\n",
       "  <thead>\n",
       "    <tr style=\"text-align: right;\">\n",
       "      <th></th>\n",
       "      <th>ID</th>\n",
       "      <th>Gene</th>\n",
       "      <th>Variation</th>\n",
       "    </tr>\n",
       "  </thead>\n",
       "  <tbody>\n",
       "    <tr>\n",
       "      <th>0</th>\n",
       "      <td>0</td>\n",
       "      <td>ACSL4</td>\n",
       "      <td>R570S</td>\n",
       "    </tr>\n",
       "    <tr>\n",
       "      <th>1</th>\n",
       "      <td>1</td>\n",
       "      <td>NAGLU</td>\n",
       "      <td>P521L</td>\n",
       "    </tr>\n",
       "    <tr>\n",
       "      <th>2</th>\n",
       "      <td>2</td>\n",
       "      <td>PAH</td>\n",
       "      <td>L333F</td>\n",
       "    </tr>\n",
       "    <tr>\n",
       "      <th>3</th>\n",
       "      <td>3</td>\n",
       "      <td>ING1</td>\n",
       "      <td>A148D</td>\n",
       "    </tr>\n",
       "    <tr>\n",
       "      <th>4</th>\n",
       "      <td>4</td>\n",
       "      <td>TMEM216</td>\n",
       "      <td>G77A</td>\n",
       "    </tr>\n",
       "  </tbody>\n",
       "</table>\n",
       "</div>"
      ],
      "text/plain": [
       "   ID     Gene Variation\n",
       "0   0    ACSL4     R570S\n",
       "1   1    NAGLU     P521L\n",
       "2   2      PAH     L333F\n",
       "3   3     ING1     A148D\n",
       "4   4  TMEM216      G77A"
      ]
     },
     "execution_count": 16,
     "metadata": {},
     "output_type": "execute_result"
    }
   ],
   "source": [
    "test_variants.head()"
   ]
  },
  {
   "cell_type": "code",
   "execution_count": null,
   "metadata": {
    "collapsed": true
   },
   "outputs": [],
   "source": []
  },
  {
   "cell_type": "code",
   "execution_count": null,
   "metadata": {
    "collapsed": true
   },
   "outputs": [],
   "source": []
  }
 ],
 "metadata": {
  "anaconda-cloud": {},
  "kernelspec": {
   "display_name": "Python [conda root]",
   "language": "python",
   "name": "conda-root-py"
  },
  "language_info": {
   "codemirror_mode": {
    "name": "ipython",
    "version": 3
   },
   "file_extension": ".py",
   "mimetype": "text/x-python",
   "name": "python",
   "nbconvert_exporter": "python",
   "pygments_lexer": "ipython3",
   "version": "3.5.2"
  }
 },
 "nbformat": 4,
 "nbformat_minor": 1
}
